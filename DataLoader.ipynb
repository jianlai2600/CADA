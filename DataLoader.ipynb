{
 "cells": [
  {
   "cell_type": "code",
   "execution_count": null,
   "outputs": [],
   "source": [
    "import torch\n",
    "import torch.nn as nn\n",
    "import torch.optim as optim\n",
    "import pickle\n",
    "import numpy as np\n",
    "import random\n",
    "from sklearn.metrics import precision_recall_fscore_support\n",
    "from torch.utils.data import Dataset, DataLoader, random_split\n",
    "import torch.nn.functional as F\n",
    "from sklearn.metrics import accuracy_score\n",
    "from sklearn.cluster import KMeans\n",
    "\n",
    "# Define the device to use\n",
    "device = torch.device('cuda' if torch.cuda.is_available() else 'cpu')\n",
    "random_state = 20\n",
    "torch.manual_seed(random_state)\n",
    "torch.cuda.empty_cache()"
   ],
   "metadata": {
    "collapsed": false
   }
  },
  {
   "cell_type": "code",
   "execution_count": null,
   "outputs": [],
   "source": [
    "cd /home/whut4/liyafei/newtype"
   ],
   "metadata": {
    "collapsed": false
   }
  },
  {
   "cell_type": "code",
   "execution_count": null,
   "outputs": [],
   "source": [
    "def concatenate_arrays(arr):\n",
    "    num_arrays = len(arr) // 20  # 计算可以拼接的数组组数\n",
    "    concatenated = []\n",
    "\n",
    "    for i in range(num_arrays):\n",
    "        start_index = i * 20  # 计算每组开始的索引\n",
    "        end_index = start_index + 20  # 计算每组结束的索引\n",
    "        concat_array = np.concatenate(arr[start_index:end_index], axis=0)\n",
    "        reshaped_array = concat_array.reshape((20, 384))  # 重新调整数组的形状\n",
    "        concatenated.append(reshaped_array)\n",
    "\n",
    "    return np.stack(concatenated)"
   ],
   "metadata": {
    "collapsed": false
   }
  },
  {
   "cell_type": "code",
   "execution_count": null,
   "outputs": [],
   "source": [
    "def load_data(D1, portion):\n",
    "    with open(\"{}/{}_normal.pickle\".format(D1, D1), \"rb\") as f:\n",
    "        D1_normal_logs = pickle.load(f)\n",
    "    with open(\"{}/{}_abnormal.pickle\".format(D1, D1), \"rb\") as f:\n",
    "        D1_abnormal_logs = pickle.load(f)\n",
    "\n",
    "    D1_normal_logs = concatenate_arrays(D1_normal_logs)\n",
    "    D1_abnormal_logs = concatenate_arrays(D1_abnormal_logs)\n",
    "\n",
    "    D1_normal_logs = D1_normal_logs[:int(len(D1_normal_logs) * portion)]\n",
    "    D1_abnormal_logs = D1_abnormal_logs[:int(len(D1_abnormal_logs) * portion)]\n",
    "\n",
    "    D1_normal_logs = torch.tensor(D1_normal_logs)\n",
    "    D1_abnormal_logs = torch.tensor(D1_abnormal_logs)\n",
    "\n",
    "    return D1_normal_logs, D1_abnormal_logs"
   ],
   "metadata": {
    "collapsed": false
   }
  },
  {
   "cell_type": "code",
   "execution_count": null,
   "outputs": [],
   "source": [
    "def random_sample_and_remove(tensor, num):\n",
    "    # 生成一个随机排列的索引\n",
    "    indices = torch.randperm(tensor.size(0))\n",
    "\n",
    "    # 选择num个随机索引以创建子tensor A\n",
    "    selected_indices = indices[:num]\n",
    "    tensor_A = torch.index_select(tensor, 0, selected_indices)\n",
    "\n",
    "    # 使用剩余的索引创建一个删除了tensor A的tensor\n",
    "    remaining_indices = indices[num:]\n",
    "    tensor_remaining = torch.index_select(tensor, 0, remaining_indices)\n",
    "\n",
    "    return tensor_A, tensor_remaining"
   ],
   "metadata": {
    "collapsed": false
   }
  },
  {
   "cell_type": "code",
   "execution_count": null,
   "outputs": [],
   "source": [
    "class LogDataset(Dataset):\n",
    "    def __init__(self, normal_data, abnormal_data):\n",
    "        self.data = torch.cat((normal_data, abnormal_data), dim=0)\n",
    "        self.labels = torch.cat((torch.zeros(normal_data.size(0), dtype=torch.long),\n",
    "                                 torch.ones(abnormal_data.size(0), dtype=torch.long)), dim=0)\n",
    "\n",
    "    def __len__(self):\n",
    "        return len(self.data)\n",
    "\n",
    "    def __getitem__(self, idx):\n",
    "        return self.data[idx], self.labels[idx]"
   ],
   "metadata": {
    "collapsed": false
   }
  },
  {
   "cell_type": "code",
   "execution_count": null,
   "outputs": [],
   "source": [
    "class LSTMClassifier(nn.Module):\n",
    "    def __init__(self, input_size = 384, hidden_size = 500, num_layers = 2, num_classes=2, dropout=0.3):\n",
    "        super(LSTMClassifier, self).__init__()\n",
    "\n",
    "        self.lstm = nn.LSTM(input_size,\n",
    "                            hidden_size,\n",
    "                            num_layers,\n",
    "                            batch_first=True,\n",
    "                            dropout=dropout,\n",
    "                            bidirectional=True)\n",
    "\n",
    "        # Considering bidirectional LSTM, hence multiplying by 2 for the final layer output size\n",
    "        self.fc = nn.Linear(hidden_size * 2, num_classes)\n",
    "\n",
    "    def forward(self, x):\n",
    "        # Passing the input sequence through LSTM layers\n",
    "        lstm_out, _ = self.lstm(x)\n",
    "\n",
    "        # For feature extraction, we will use the last output of the sequence before classification\n",
    "        features = lstm_out[:, -1, :]\n",
    "        out = self.fc(features)\n",
    "\n",
    "        return out, features  # return both output and features"
   ],
   "metadata": {
    "collapsed": false
   }
  },
  {
   "cell_type": "code",
   "execution_count": null,
   "outputs": [],
   "source": [
    "class BidirectionalTransformerClassifier(nn.Module):\n",
    "    def __init__(self, num_layers=2, embedding_size=384, num_heads=4, dropout_rate=0.2):\n",
    "        super().__init__()\n",
    "\n",
    "        self.embedding_size = embedding_size\n",
    "\n",
    "        # Forward Transformer Encoder\n",
    "        self.forward_encoder_layer = nn.TransformerEncoderLayer(d_model=embedding_size, nhead=num_heads, dropout=dropout_rate)\n",
    "        self.forward_transformer_encoder = nn.TransformerEncoder(self.forward_encoder_layer, num_layers=num_layers)\n",
    "\n",
    "        # Backward Transformer Encoder\n",
    "        self.backward_encoder_layer = nn.TransformerEncoderLayer(d_model=embedding_size, nhead=num_heads, dropout=dropout_rate)\n",
    "        self.backward_transformer_encoder = nn.TransformerEncoder(self.backward_encoder_layer, num_layers=num_layers)\n",
    "\n",
    "        # Linear layer for classification\n",
    "        self.fc = nn.Linear(embedding_size * 2, 2)  # Multiply by 2 for concatenating forward and backward outputs\n",
    "\n",
    "    def forward(self, x):\n",
    "        # Permute to (sequence_length, batch_size, embedding_size)\n",
    "        x = x.permute(1, 0, 2)\n",
    "\n",
    "        # Forward pass\n",
    "        forward_output = self.forward_transformer_encoder(x)\n",
    "\n",
    "        # Backward pass\n",
    "        backward_output = self.backward_transformer_encoder(torch.flip(x, [0]))\n",
    "\n",
    "        # Concatenate forward and backward outputs along the feature dimension\n",
    "        concatenated_output = torch.cat([forward_output, torch.flip(backward_output, [0])], dim=-1)\n",
    "\n",
    "        # Permute back to (batch_size, sequence_length, embedding_size * 2)\n",
    "        concatenated_output = concatenated_output.permute(1, 0, 2)\n",
    "\n",
    "        # Extract the last output of the sequence before classification\n",
    "        fea = concatenated_output[:, -1, :]\n",
    "\n",
    "        # Apply linear layer for classification\n",
    "        x = self.fc(fea)\n",
    "\n",
    "        return x, fea"
   ],
   "metadata": {
    "collapsed": false
   }
  },
  {
   "cell_type": "code",
   "execution_count": null,
   "outputs": [],
   "source": [
    "# direction = 'HDFS->Hadoop'\n",
    "# direction = 'Hadoop->HDFS'\n",
    "\n",
    "direction = 'BGL->TB'\n",
    "# direction = 'TB->BGL'\n",
    "\n",
    "# direction = 'TB->Spirit'\n",
    "# direction = 'Spirit->TB'\n",
    "\n",
    "# direction = 'BGL->Spirit'\n",
    "# direction = 'Spirit->BGL'\n",
    "\n",
    "train_size_B = 100\n",
    "\n",
    "D1_name = direction.split('->')[0]\n",
    "D2_name = direction.split('->')[1]"
   ],
   "metadata": {
    "collapsed": false
   }
  },
  {
   "cell_type": "code",
   "execution_count": null,
   "outputs": [],
   "source": [
    "D1_normal_logs, D1_abnormal_logs = load_data(D1_name, portion = 1)\n",
    "\n",
    "# 创建数据集\n",
    "dataset_A = LogDataset(D1_normal_logs, D1_abnormal_logs)\n",
    "\n",
    "# 划分训练集和测试集\n",
    "train_size_A = int(0.8 * len(dataset_A))\n",
    "test_size_A = len(dataset_A) - train_size_A\n",
    "train_dataset_A, test_dataset_A = random_split(dataset_A, [train_size_A, test_size_A])\n",
    "\n",
    "# 创建数据加载器\n",
    "batch_size = 32\n",
    "train_loader_A = DataLoader(train_dataset_A, batch_size=batch_size, shuffle=True)\n",
    "test_loader_A = DataLoader(test_dataset_A, batch_size=batch_size, shuffle=False)\n",
    "\n",
    "\n",
    "D2_normal_logs, D2_abnormal_logs = load_data(D2_name, portion = 1)\n",
    "dataset_B = LogDataset(D2_normal_logs, D2_abnormal_logs)\n",
    "test_size_B = len(dataset_B) - train_size_B\n",
    "\n",
    "train_dataset_B, test_dataset_B = random_split(dataset_B, [train_size_B, test_size_B])\n",
    "\n",
    "train_loader_B = DataLoader(train_dataset_B, batch_size=batch_size, shuffle=True)\n",
    "test_loader_B = DataLoader(test_dataset_B, batch_size=batch_size, shuffle=False)"
   ],
   "metadata": {
    "collapsed": false
   }
  },
  {
   "cell_type": "code",
   "execution_count": null,
   "outputs": [],
   "source": [
    "# Initialize the model\n",
    "model = BidirectionalTransformerClassifier().to(device)"
   ],
   "metadata": {
    "collapsed": false
   }
  }
 ],
 "metadata": {
  "kernelspec": {
   "display_name": "Python 3",
   "language": "python",
   "name": "python3"
  },
  "language_info": {
   "codemirror_mode": {
    "name": "ipython",
    "version": 2
   },
   "file_extension": ".py",
   "mimetype": "text/x-python",
   "name": "python",
   "nbconvert_exporter": "python",
   "pygments_lexer": "ipython2",
   "version": "2.7.6"
  }
 },
 "nbformat": 4,
 "nbformat_minor": 0
}

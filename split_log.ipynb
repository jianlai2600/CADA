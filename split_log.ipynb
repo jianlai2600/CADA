{
 "cells": [
  {
   "cell_type": "code",
   "execution_count": 12,
   "metadata": {
    "collapsed": true
   },
   "outputs": [],
   "source": [
    "# 定义输入文件名和输出文件名\n",
    "input_file = \"/home/whut4/liyafei/dataset/Spirit/Spirit1G.log\"\n",
    "normal_log_file = \"/home/whut4/liyafei/dataset/Spirit/normal.log\"\n",
    "abnormal_log_file = \"/home/whut4/liyafei/dataset/Spirit/abnormal.log\""
   ]
  },
  {
   "cell_type": "code",
   "execution_count": 13,
   "outputs": [],
   "source": [
    "# 打开输入文件和输出文件\n",
    "with open(input_file, \"r\") as input_file, open(normal_log_file, \"w\") as normal_output, open(abnormal_log_file, \"w\") as abnormal_output:\n",
    "    logs = []\n",
    "    current_log_type = None\n",
    "\n",
    "    normal_count = 0\n",
    "    abnormal_count = 0\n",
    "    sum_count = 0\n",
    "\n",
    "    # 逐行读取日志文件\n",
    "    for line in input_file:\n",
    "        # 去除首尾空格\n",
    "        line = line.strip()\n",
    "\n",
    "        sum_count = sum_count + 1\n",
    "\n",
    "        if line.startswith(\"-\"):\n",
    "            normal_count = normal_count + 1\n",
    "            logs.append(line)\n",
    "        else:\n",
    "            abnormal_count = abnormal_count + 1\n",
    "            logs.append(line)\n",
    "\n",
    "        # 如果异常日志达到20条，将其写入abnormal.log文件\n",
    "        if sum_count == 20:\n",
    "            if normal_count == 20:\n",
    "                normal_output.write(\"\\n\".join(logs) + \"\\n\")\n",
    "            else:\n",
    "                abnormal_output.write(\"\\n\".join(logs) + \"\\n\")\n",
    "            normal_count = 0\n",
    "            abnormal_count = 0\n",
    "            sum_count = 0\n",
    "            logs = []"
   ],
   "metadata": {
    "collapsed": false
   }
  },
  {
   "cell_type": "code",
   "execution_count": null,
   "outputs": [],
   "source": [],
   "metadata": {
    "collapsed": false
   }
  }
 ],
 "metadata": {
  "kernelspec": {
   "display_name": "Python 3",
   "language": "python",
   "name": "python3"
  },
  "language_info": {
   "codemirror_mode": {
    "name": "ipython",
    "version": 2
   },
   "file_extension": ".py",
   "mimetype": "text/x-python",
   "name": "python",
   "nbconvert_exporter": "python",
   "pygments_lexer": "ipython2",
   "version": "2.7.6"
  }
 },
 "nbformat": 4,
 "nbformat_minor": 0
}
